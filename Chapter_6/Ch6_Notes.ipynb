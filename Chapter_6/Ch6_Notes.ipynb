{
 "cells": [
  {
   "cell_type": "code",
   "execution_count": 1,
   "metadata": {
    "collapsed": true
   },
   "outputs": [],
   "source": [
    "# Deep learning for Text and Sequences\n",
    "\n",
    "# Contents:\n",
    "#     1) Preprocessing text data into useful representations\n",
    "#     2) Working with recurrent neural networks\n",
    "#     3) Using 1D convnets for sequence processesing "
   ]
  },
  {
   "cell_type": "code",
   "execution_count": null,
   "metadata": {
    "collapsed": true
   },
   "outputs": [],
   "source": [
    "The two fundamental deepl-learning algorithms for sequence processing are recurrent neural networks and 1D convents.\n",
    "\n",
    "Applications of the two include the following:\n",
    "    1) Document classification and timeseries classification \n",
    "    2) Timeseries comparisons, such as estimating how closely related two documents or two stock tickers are\n",
    "    3) Sequence-to-sequence learning, such as decoding and English sentence into French\n",
    "    4) "
   ]
  }
 ],
 "metadata": {
  "kernelspec": {
   "display_name": "Python 3",
   "language": "python",
   "name": "python3"
  },
  "language_info": {
   "codemirror_mode": {
    "name": "ipython",
    "version": 3
   },
   "file_extension": ".py",
   "mimetype": "text/x-python",
   "name": "python",
   "nbconvert_exporter": "python",
   "pygments_lexer": "ipython3",
   "version": "3.6.3"
  }
 },
 "nbformat": 4,
 "nbformat_minor": 2
}

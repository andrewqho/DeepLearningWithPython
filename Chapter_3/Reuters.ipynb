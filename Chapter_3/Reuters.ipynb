{
 "cells": [
  {
   "cell_type": "code",
   "execution_count": 46,
   "metadata": {
    "collapsed": true
   },
   "outputs": [],
   "source": [
    "# Classifying Newswires: A Multiclass Classification Example\n"
   ]
  },
  {
   "cell_type": "code",
   "execution_count": 47,
   "metadata": {},
   "outputs": [],
   "source": [
    "from keras.datasets import reuters\n",
    "\n",
    "(train_data, train_labels), (test_data, test_labels) = reuters.load_data(num_words=10000)"
   ]
  },
  {
   "cell_type": "code",
   "execution_count": 48,
   "metadata": {},
   "outputs": [],
   "source": [
    "# Decoder function to get words from newswires\n",
    "\n",
    "def decode_news(newswire):\n",
    "    word_index = reuters.get_word_index()\n",
    "    reversed_word_index = dict([(value, key) for (key, value) in word_index.items()])\n",
    "    \n",
    "    decoded_newswire = ' '\n",
    "    \n",
    "    for i in newswire:\n",
    "        decoded_newswire = decoded_newswire + ' ' + str(reversed_word_index.get(i-3, '?'))\n",
    "\n",
    "    return decoded_newswire\n",
    "\n"
   ]
  },
  {
   "cell_type": "code",
   "execution_count": 49,
   "metadata": {},
   "outputs": [],
   "source": [
    "# Vectorize data to feed using one-hot encoding \n",
    "\n",
    "import numpy as np\n",
    "\n",
    "def vectorize(arr, dimension):\n",
    "    ret_arr = np.zeros((len(arr), dimension))\n",
    "    for i, arr in enumerate(arr):\n",
    "        ret_arr[i, arr] = 1.\n",
    "    return ret_arr\n",
    "\n",
    "data_train = vectorize(train_data, 10000)\n",
    "data_test = vectorize(test_data, 10000)\n",
    "\n",
    "label_train = vectorize(train_labels, 46)\n",
    "label_test = vectorize(test_labels, 46)\n",
    "\n"
   ]
  },
  {
   "cell_type": "code",
   "execution_count": 50,
   "metadata": {},
   "outputs": [
    {
     "name": "stdout",
     "output_type": "stream",
     "text": [
      "Train on 7982 samples, validate on 1000 samples\n",
      "Epoch 1/9\n",
      "7982/7982 [==============================] - 2s 272us/step - loss: 2.5704 - acc: 0.5722 - val_loss: 1.8069 - val_acc: 0.6630\n",
      "Epoch 2/9\n",
      "7982/7982 [==============================] - 1s 175us/step - loss: 1.4658 - acc: 0.7261 - val_loss: 1.3569 - val_acc: 0.7120\n",
      "Epoch 3/9\n",
      "7982/7982 [==============================] - 1s 152us/step - loss: 1.0736 - acc: 0.7874 - val_loss: 1.1523 - val_acc: 0.7610\n",
      "Epoch 4/9\n",
      "7982/7982 [==============================] - 1s 149us/step - loss: 0.8386 - acc: 0.8335 - val_loss: 1.0293 - val_acc: 0.7880\n",
      "Epoch 5/9\n",
      "7982/7982 [==============================] - 1s 149us/step - loss: 0.6737 - acc: 0.8664 - val_loss: 0.9516 - val_acc: 0.8070\n",
      "Epoch 6/9\n",
      "7982/7982 [==============================] - 1s 149us/step - loss: 0.5489 - acc: 0.8923 - val_loss: 0.9115 - val_acc: 0.8130\n",
      "Epoch 7/9\n",
      "7982/7982 [==============================] - 1s 178us/step - loss: 0.4543 - acc: 0.9094 - val_loss: 0.8731 - val_acc: 0.8240\n",
      "Epoch 8/9\n",
      "7982/7982 [==============================] - 1s 156us/step - loss: 0.3768 - acc: 0.9237 - val_loss: 0.8504 - val_acc: 0.8200\n",
      "Epoch 9/9\n",
      "7982/7982 [==============================] - 1s 165us/step - loss: 0.3163 - acc: 0.9360 - val_loss: 0.8408 - val_acc: 0.8280\n"
     ]
    }
   ],
   "source": [
    "# ATTEMPT 1\n",
    "\n",
    "from keras import models\n",
    "from keras import layers\n",
    "\n",
    "\n",
    "# Define model object\n",
    "model = models.Sequential()\n",
    "\n",
    "# Add layers\n",
    "model.add(layers.Dense(64, activation='relu', input_shape=(10000,)))\n",
    "model.add(layers.Dense(64, activation='relu'))\n",
    "model.add(layers.Dense(46, activation='softmax'))\n",
    "\n",
    "# Take first 10000 of data_train to be the validation set\n",
    "data_validation = data_train[:1000]\n",
    "label_validation = label_train[:1000]\n",
    "\n",
    "# Take the rest of data_train to be the training set\n",
    "partial_data_train = data_train[1000:]\n",
    "partial_label_train = label_train[1000:]\n",
    "\n",
    "# Compile model\n",
    "model.compile(optimizer='rmsprop', \n",
    "              loss='categorical_crossentropy', \n",
    "              metrics=['accuracy'])\n",
    "\n",
    "# Train model\n",
    "history = model.fit(x=partial_data_train,\n",
    "                    y=partial_label_train,\n",
    "                    epochs=9,\n",
    "                    batch_size=512,\n",
    "                    validation_data=(data_validation, label_validation))\n",
    "\n",
    "\n",
    "    \n",
    "    \n",
    "    \n",
    "    \n",
    "    \n",
    "    "
   ]
  },
  {
   "cell_type": "code",
   "execution_count": 51,
   "metadata": {},
   "outputs": [
    {
     "data": {
      "image/png": "[encoded data removed]",
      "text/plain": [
       "<matplotlib.figure.Figure at 0x11e75eb70>"
      ]
     },
     "metadata": {},
     "output_type": "display_data"
    }
   ],
   "source": [
    "import matplotlib.pyplot as plt\n",
    "\n",
    "history_dict = history.history\n",
    "loss_values = history_dict['loss']\n",
    "val_loss_values = history_dict['val_loss']\n",
    "\n",
    "epochs = range(1, len(loss_values) + 1)\n",
    "\n",
    "plt.plot(epochs, loss_values, 'bo', label='Training loss')\n",
    "plt.plot(epochs, val_loss_values, 'b', label='Validation loss')\n",
    "plt.title('Training and Validation Loss')\n",
    "plt.xlabel('Epochs')\n",
    "plt.ylabel('Loss')\n",
    "plt.legend()\n",
    "\n",
    "plt.show()"
   ]
  },
  {
   "cell_type": "code",
   "execution_count": 52,
   "metadata": {},
   "outputs": [
    {
     "data": {
      "image/png": "[encoded data removed]",
      "text/plain": [
       "<matplotlib.figure.Figure at 0x157119128>"
      ]
     },
     "metadata": {},
     "output_type": "display_data"
    }
   ],
   "source": [
    "plt.clf()\n",
    "acc_values = history_dict['acc']\n",
    "val_acc_values = history_dict['val_acc']\n",
    "\n",
    "plt.plot(epochs, acc_values, 'bo', label='Training Accuracy')\n",
    "plt.plot(epochs, val_acc_values, 'b', label='Validation acc')\n",
    "plt.title('Training and Validation Accuracy')\n",
    "plt.xlabel('Epochs')\n",
    "plt.ylabel('Loss')\n",
    "plt.legend()\n",
    "\n",
    "plt.show()"
   ]
  },
  {
   "cell_type": "code",
   "execution_count": 53,
   "metadata": {},
   "outputs": [
    {
     "name": "stdout",
     "output_type": "stream",
     "text": [
      "2246/2246 [==============================] - 1s 300us/step\n"
     ]
    }
   ],
   "source": [
    "results = model.evaluate(data_test, label_test)"
   ]
  },
  {
   "cell_type": "code",
   "execution_count": 54,
   "metadata": {},
   "outputs": [
    {
     "name": "stdout",
     "output_type": "stream",
     "text": [
      "[0.9274310796046406, 0.7947462155472882]\n"
     ]
    }
   ],
   "source": [
    "print(results)"
   ]
  },
  {
   "cell_type": "code",
   "execution_count": 55,
   "metadata": {},
   "outputs": [
    {
     "data": {
      "text/plain": [
       "array([1.92252235e-04, 2.48532277e-04, 2.58896151e-04, 8.63955319e-01,\n",
       "       1.22037940e-01, 1.20739278e-04, 1.98218069e-04, 2.40729423e-05,\n",
       "       2.51548481e-03, 3.76460594e-05, 2.03663527e-04, 1.18474290e-03,\n",
       "       2.13997424e-04, 3.16329533e-04, 5.05742719e-05, 4.84077864e-05,\n",
       "       1.87296583e-03, 2.00083305e-04, 1.03883256e-04, 1.23636727e-03,\n",
       "       6.70635316e-04, 6.61648461e-04, 6.07954207e-05, 1.97299974e-04,\n",
       "       1.69714272e-04, 1.16481388e-04, 5.35350373e-05, 1.80944480e-05,\n",
       "       3.07130598e-04, 2.63196474e-04, 1.91089872e-04, 3.71060887e-04,\n",
       "       1.16497162e-04, 2.36321084e-05, 6.45665568e-04, 3.67149078e-05,\n",
       "       2.01410017e-04, 1.95384462e-04, 3.32205673e-05, 3.69811547e-04,\n",
       "       2.25199146e-05, 1.44282647e-04, 2.71639947e-05, 6.41245788e-05,\n",
       "       1.27440317e-05, 6.06558206e-06], dtype=float32)"
      ]
     },
     "execution_count": 55,
     "metadata": {},
     "output_type": "execute_result"
    }
   ],
   "source": [
    "predictions = model.predict(data_test)\n",
    "\n",
    "predictions[0]"
   ]
  },
  {
   "cell_type": "code",
   "execution_count": 56,
   "metadata": {},
   "outputs": [
    {
     "data": {
      "text/plain": [
       "3"
      ]
     },
     "execution_count": 56,
     "metadata": {},
     "output_type": "execute_result"
    }
   ],
   "source": [
    "np.argmax(predictions[0])"
   ]
  },
  {
   "cell_type": "code",
   "execution_count": null,
   "metadata": {
    "collapsed": true
   },
   "outputs": [],
   "source": [
    "Summary:\n",
    "    \n",
    "If you're trying to classify data points among N classes, your network should end with a Dense layer of size N\n",
    "\n",
    "In a single-label, multiclass classification problem, your networks should end with a softmax activation for \n",
    "N classes\n",
    "\n",
    "Categorical cross entropy is almost always the sloss function you should use in these problems, as it minimizes\n",
    "the distance between the probability distributions output by the netwowk and the true distribution of the targets\n",
    "\n",
    "There are two ways to handle labels in multiclass classification:\n",
    "    1) Encoding the labels via one-hot encoding\n",
    "    2) Encoding the labels as integers and suing the sparse_categorical_crossentropy loss function \n",
    "    \n",
    "If you need to classify data into a large number of categories "
   ]
  }
 ],
 "metadata": {
  "kernelspec": {
   "display_name": "Python 3",
   "language": "python",
   "name": "python3"
  },
  "language_info": {
   "codemirror_mode": {
    "name": "ipython",
    "version": 3
   },
   "file_extension": ".py",
   "mimetype": "text/x-python",
   "name": "python",
   "nbconvert_exporter": "python",
   "pygments_lexer": "ipython3",
   "version": "3.6.3"
  }
 },
 "nbformat": 4,
 "nbformat_minor": 2
}

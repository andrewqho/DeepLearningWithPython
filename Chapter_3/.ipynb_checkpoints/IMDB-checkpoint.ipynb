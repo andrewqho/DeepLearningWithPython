{
 "cells": [
  {
   "cell_type": "code",
   "execution_count": 1,
   "metadata": {
    "collapsed": true
   },
   "outputs": [],
   "source": [
    "# Classifying Movie Reviews: A Binary Classifcation Example"
   ]
  },
  {
   "cell_type": "code",
   "execution_count": 2,
   "metadata": {},
   "outputs": [
    {
     "name": "stderr",
     "output_type": "stream",
     "text": [
      "/anaconda3/lib/python3.6/site-packages/h5py/__init__.py:34: FutureWarning: Conversion of the second argument of issubdtype from `float` to `np.floating` is deprecated. In future, it will be treated as `np.float64 == np.dtype(float).type`.\n",
      "  from ._conv import register_converters as _register_converters\n",
      "Using TensorFlow backend.\n"
     ]
    }
   ],
   "source": [
    "from keras.datasets import imdb\n",
    "\n",
    "(train_data, train_labels), (test_data, test_labels) = imdb.load_data(num_words=10000)\n",
    "\n",
    "# num_words means we'll only keep the top 10,000 most frequently occuring words in the training data\n",
    "\n",
    "# train_data and test_Data are lists of reviews; each review is a list of word indices\n",
    "# train_labels and test_labels are lists of 0s and 1s, where 0 = negative and 1 = positive\\"
   ]
  },
  {
   "cell_type": "code",
   "execution_count": 3,
   "metadata": {
    "collapsed": true
   },
   "outputs": [],
   "source": [
    "# Decoder function to get words from reviews\n",
    "def decode_review(review):\n",
    "    word_index = imdb.get_word_index()\n",
    "    reversed_word_index = dict([(value, key) for (key, value) in word_index.items()])\n",
    "    \n",
    "    decoded_review = ' '\n",
    "    \n",
    "    for i in review:\n",
    "        decoded_review = decoded_review + ' ' + str(reversed_word_index.get(i-3, '?'))\n",
    "\n",
    "    return decoded_review\n",
    "\n"
   ]
  },
  {
   "cell_type": "code",
   "execution_count": 4,
   "metadata": {
    "collapsed": true
   },
   "outputs": [],
   "source": [
    "# Two ways of turning lists into tensors:\n",
    "#     1) Pad lists so that they all have the same length, turn them into an integer tensor of \n",
    "#        shape (samples, word_indices), then use as the first layer of your network a layer capable \n",
    "#        of handling such integer tensors\n",
    "#     2) One-hot encode your lists to turn them into vectors of 0s and 1s. Example: turn a sequence\n",
    "#        [3, 5] into a 10,000 dimensional vector that would be all 0s, except for indices 3 and 5,\n",
    "#        which would be 1s. Then you could use as the first layer in the network a Dense layer, \n",
    "#        capable of handling floating-point vector data\n",
    "\n",
    "import numpy as np\n",
    "\n",
    "def vectorize_sequences(sequences, dimension = 10000):\n",
    "    results = np.zeros((len(sequences), dimension))\n",
    "    for i, sequence in enumerate(sequences):\n",
    "        results[i][sequence] = 1\n",
    "    return results\n",
    "\n",
    "data_train = vectorize_sequences(train_data)\n",
    "data_test = vectorize_sequences(test_data)\n",
    "\n",
    "label_train = np.asarray(train_labels).astype('float32')\n",
    "label_test = np.asarray(test_labels).astype('float32')\n",
    "\n",
    "\n"
   ]
  },
  {
   "cell_type": "code",
   "execution_count": 5,
   "metadata": {
    "collapsed": true
   },
   "outputs": [],
   "source": [
    "# Building the Network: \n",
    "\n",
    "# We have:\n",
    "#     Input = vectors\n",
    "#     Labels = Scalars\n",
    "    \n",
    "# We will stack fully connected (Dense) layers with relu activations\n",
    "\n",
    "# In the function Dense(16, activation='relu'), a Dense layer is declared with 16 hidden units\n",
    "# In chapter 2, we had the 'relu' activation implrements the following chain of tensor operations:\n",
    "    \n",
    "#     output = relu(dot(W, input) + b)\n",
    "    \n",
    "# Having 16 hidden units means the weight matrix W will have shape (input_dim, 16)\n",
    "# The dot product with W will project the input data onto a 16-dimensional representation\n",
    "# space, where we'll ad the bias vector b and apply the relu operation\n",
    "\n",
    "# Think of the bias vector as an y-intercept\n",
    "\n",
    "# Having more hidden units allows the network to learn more complex representations, but makes\n",
    "# the network more computationally expensive and may lead to learning unwanted patterns\n",
    "\n",
    "# There are two key architecture decisions:\n",
    "#     1) How many layers to use\n",
    "#     2) How many hidden units to choose for each layer\n",
    "    \n",
    "\n",
    "# Intermiediate layers will use relu as their activation function, and the final layer will use \n",
    "# a sigmoid activation so as to output a probability \n",
    "\n",
    "\n"
   ]
  },
  {
   "cell_type": "code",
   "execution_count": 6,
   "metadata": {
    "collapsed": true
   },
   "outputs": [],
   "source": [
    "# Activation functions\n",
    "\n",
    "# Took the weighted sum of each connection that pointed to each neuron and passed it to an activation function\n",
    "\n",
    "# Activation function does some type of operation to transform the sum into a number between some lower and upper limit\n",
    "\n",
    "# Example of activation function: Sigmoid\n",
    "# Sigmoid takes in an input, if the number is very negative, then sigmoid will transform the number to something very \n",
    "# close to 0, but positive. If the number is very postiive, then it will squash the number to 1.\n",
    "\n",
    "# Activation function is inspired by action potentials\n",
    "\n",
    "# One of the most popular activation functions is 'Relu'\n",
    "\n",
    "# Relu is basically max(input, 0). The more positive the neuron, the more activated it is\n",
    "\n",
    "\n"
   ]
  },
  {
   "cell_type": "code",
   "execution_count": 7,
   "metadata": {
    "collapsed": true
   },
   "outputs": [],
   "source": [
    "# FIRST ATTEMPT AT NEURAL NETWORK:\n",
    "# ARCHITECTURE:\n",
    "# 4 layers, takes 10000 size numpy array\n",
    "# 20 Epochs in 512 sized sample mini-batches"
   ]
  },
  {
   "cell_type": "code",
   "execution_count": 8,
   "metadata": {
    "collapsed": true
   },
   "outputs": [],
   "source": [
    "# Define Architecture\n",
    "# We have 4 layers\n",
    "# Input layer takes a 10000 size numpy array\n",
    "\n",
    "from keras import models\n",
    "from keras import layers\n",
    "\n",
    "# Define Sequential model object\n",
    "model = models.Sequential()\n",
    "\n",
    "# Add layers\n",
    "model.add(layers.Dense(16, activation='relu', input_shape=(10000,)))\n",
    "model.add(layers.Dense(16, activation='relu'))\n",
    "model.add(layers.Dense(1, activation='sigmoid'))\n",
    "\n",
    "\n"
   ]
  },
  {
   "cell_type": "code",
   "execution_count": 9,
   "metadata": {
    "collapsed": true
   },
   "outputs": [],
   "source": [
    "# Compile model\n",
    "\n",
    "# Optimizer: Using rmspropr optimizer\n",
    "# Loss function: Since we are doing binary classifciation, it's best to use the binary_crossentropy loss\n",
    "# Metrics: Since we are classifying as positive or negative, metric will be accuracy\n",
    "\n",
    "\n",
    "model.compile(optimizer='rmsprop', \n",
    "              loss='binary_crossentropy', \n",
    "              metrics=['acc'])\n",
    "\n",
    "\n",
    "\n"
   ]
  },
  {
   "cell_type": "code",
   "execution_count": 10,
   "metadata": {
    "collapsed": true
   },
   "outputs": [],
   "source": [
    "# You can also configure the optimizer using custom losses and metrics\n",
    "# Example shown below:\n",
    "\n",
    "# from keras import optimizers\n",
    "# from keras import losses\n",
    "# from keras import metrics\n",
    "\n",
    "\n",
    "# model.compile(optimizer=optimizers.RMSprop(lr=0.001), \n",
    "#               loss=losses.binary_crossentropy, \n",
    "#               metrics=[metrics.binary_accuracy])"
   ]
  },
  {
   "cell_type": "code",
   "execution_count": 11,
   "metadata": {
    "collapsed": true
   },
   "outputs": [],
   "source": [
    "# Separating training and validation set \n",
    "\n",
    "# Take first 10000 of data_train to be the validation set\n",
    "data_validation = data_train[:10000]\n",
    "label_validation = label_train[:10000]\n",
    "\n",
    "# Take the rest of data_train to be the training set\n",
    "partial_data_train = data_train[10000:]\n",
    "partial_label_train = label_train[10000:]\n"
   ]
  },
  {
   "cell_type": "code",
   "execution_count": 12,
   "metadata": {},
   "outputs": [
    {
     "name": "stdout",
     "output_type": "stream",
     "text": [
      "Train on 15000 samples, validate on 10000 samples\n",
      "Epoch 1/20\n",
      "15000/15000 [==============================] - 5s 351us/step - loss: 0.5084 - acc: 0.7813 - val_loss: 0.3797 - val_acc: 0.8684\n",
      "Epoch 2/20\n",
      "15000/15000 [==============================] - 4s 282us/step - loss: 0.3004 - acc: 0.9047 - val_loss: 0.3004 - val_acc: 0.8897\n",
      "Epoch 3/20\n",
      "15000/15000 [==============================] - 3s 223us/step - loss: 0.2179 - acc: 0.9285 - val_loss: 0.3086 - val_acc: 0.8712\n",
      "Epoch 4/20\n",
      "15000/15000 [==============================] - 3s 194us/step - loss: 0.1750 - acc: 0.9438 - val_loss: 0.2840 - val_acc: 0.8832\n",
      "Epoch 5/20\n",
      "15000/15000 [==============================] - 3s 195us/step - loss: 0.1427 - acc: 0.9543 - val_loss: 0.2841 - val_acc: 0.8871\n",
      "Epoch 6/20\n",
      "15000/15000 [==============================] - 3s 169us/step - loss: 0.1150 - acc: 0.9650 - val_loss: 0.3164 - val_acc: 0.8772\n",
      "Epoch 7/20\n",
      "15000/15000 [==============================] - 3s 185us/step - loss: 0.0980 - acc: 0.9707 - val_loss: 0.3127 - val_acc: 0.8846\n",
      "Epoch 8/20\n",
      "15000/15000 [==============================] - 2s 161us/step - loss: 0.0807 - acc: 0.9763 - val_loss: 0.3860 - val_acc: 0.8649\n",
      "Epoch 9/20\n",
      "15000/15000 [==============================] - 3s 188us/step - loss: 0.0661 - acc: 0.9821 - val_loss: 0.3634 - val_acc: 0.8781\n",
      "Epoch 10/20\n",
      "15000/15000 [==============================] - 3s 178us/step - loss: 0.0561 - acc: 0.9853 - val_loss: 0.3842 - val_acc: 0.8791\n",
      "Epoch 11/20\n",
      "15000/15000 [==============================] - 4s 259us/step - loss: 0.0439 - acc: 0.9893 - val_loss: 0.4152 - val_acc: 0.8780\n",
      "Epoch 12/20\n",
      "15000/15000 [==============================] - 5s 325us/step - loss: 0.0381 - acc: 0.9921 - val_loss: 0.4528 - val_acc: 0.8686\n",
      "Epoch 13/20\n",
      "15000/15000 [==============================] - 5s 306us/step - loss: 0.0300 - acc: 0.9929 - val_loss: 0.4697 - val_acc: 0.8727\n",
      "Epoch 14/20\n",
      "15000/15000 [==============================] - 3s 219us/step - loss: 0.0247 - acc: 0.9945 - val_loss: 0.5023 - val_acc: 0.8726\n",
      "Epoch 15/20\n",
      "15000/15000 [==============================] - 3s 223us/step - loss: 0.0177 - acc: 0.9978 - val_loss: 0.5325 - val_acc: 0.8700\n",
      "Epoch 16/20\n",
      "15000/15000 [==============================] - 4s 242us/step - loss: 0.0165 - acc: 0.9967 - val_loss: 0.5726 - val_acc: 0.8700\n",
      "Epoch 17/20\n",
      "15000/15000 [==============================] - 3s 184us/step - loss: 0.0112 - acc: 0.9988 - val_loss: 0.6182 - val_acc: 0.8665\n",
      "Epoch 18/20\n",
      "15000/15000 [==============================] - 2s 163us/step - loss: 0.0116 - acc: 0.9975 - val_loss: 0.6390 - val_acc: 0.8669\n",
      "Epoch 19/20\n",
      "15000/15000 [==============================] - 3s 176us/step - loss: 0.0057 - acc: 0.9997 - val_loss: 0.7391 - val_acc: 0.8535\n",
      "Epoch 20/20\n",
      "15000/15000 [==============================] - 3s 171us/step - loss: 0.0096 - acc: 0.9983 - val_loss: 0.6979 - val_acc: 0.8668\n"
     ]
    }
   ],
   "source": [
    "# Train model \n",
    "\n",
    "# Train on partial_data_train and partial_label_train\n",
    "# Run through training data for 20 epochs in mini-batches of 512 samples\n",
    "# Use data_validation and label_validation for the validation set\n",
    "\n",
    "# model.fit() returns a History object, which has a dictionary containing data about \n",
    "# everything that happened during training.\n",
    "\n",
    "history = model.fit(x=partial_data_train,\n",
    "                    y=partial_label_train,\n",
    "                    epochs=20,\n",
    "                    batch_size=512,\n",
    "                    validation_data=(data_validation, label_validation))\n"
   ]
  },
  {
   "cell_type": "code",
   "execution_count": 13,
   "metadata": {},
   "outputs": [
    {
     "name": "stdout",
     "output_type": "stream",
     "text": [
      "dict_keys(['val_loss', 'val_acc', 'loss', 'acc'])\n"
     ]
    }
   ],
   "source": [
    "# Check History object:\n",
    "\n",
    "# History object should have 4 dict key values:\n",
    "# 'val_loss', 'val_acc', 'loss', 'acc'\n",
    "history_dict = history.history\n",
    "print(history_dict.keys())"
   ]
  },
  {
   "cell_type": "code",
   "execution_count": 14,
   "metadata": {},
   "outputs": [
    {
     "data": {
      "image/png": "[encoded data removed]",
      "text/plain": [
       "<matplotlib.figure.Figure at 0x129084550>"
      ]
     },
     "metadata": {},
     "output_type": "display_data"
    }
   ],
   "source": [
    "# Plotting the Training and Validation Loss\n",
    "\n",
    "import matplotlib.pyplot as plt\n",
    "\n",
    "history_dict = history.history\n",
    "loss_values = history_dict['loss']\n",
    "val_loss_values = history_dict['val_loss']\n",
    "\n",
    "epochs = range(1, len(loss_values) + 1)\n",
    "\n",
    "plt.plot(epochs, loss_values, 'bo', label='Training loss')\n",
    "plt.plot(epochs, val_loss_values, 'b', label='Validation loss')\n",
    "plt.title('Training and Validation Loss')\n",
    "plt.xlabel('Epochs')\n",
    "plt.ylabel('Loss')\n",
    "plt.legend()\n",
    "\n",
    "plt.show()"
   ]
  },
  {
   "cell_type": "code",
   "execution_count": 15,
   "metadata": {},
   "outputs": [
    {
     "data": {
      "image/png": "[encoded data removed]",
      "text/plain": [
       "<matplotlib.figure.Figure at 0x123c34a90>"
      ]
     },
     "metadata": {},
     "output_type": "display_data"
    }
   ],
   "source": [
    "# Plotting the Training and Validation Accuracy\n",
    "\n",
    "plt.clf()\n",
    "acc_values = history_dict['acc']\n",
    "val_acc_values = history_dict['val_acc']\n",
    "\n",
    "plt.plot(epochs, acc_values, 'bo', label='Training Accuracy')\n",
    "plt.plot(epochs, val_acc_values, 'b', label='Validation acc')\n",
    "plt.title('Training and Validation Accuracy')\n",
    "plt.xlabel('Epochs')\n",
    "plt.ylabel('Loss')\n",
    "plt.legend()\n",
    "\n",
    "plt.show()"
   ]
  },
  {
   "cell_type": "code",
   "execution_count": 16,
   "metadata": {
    "collapsed": true
   },
   "outputs": [],
   "source": [
    "# Issues with the first attempt:\n",
    "    \n",
    "# We see that the training loss decreases with every epoch, and that the training accuracy increases\n",
    "# with every epoch. However on the validation loss and accuracy, the metrics peak at the fourth epoch. \n",
    "# Thus, we have overfitted the model. After the second epoch, we overoptimizesd on the training data,\n",
    "# making the model unable to generalize to data outside the training set.\n",
    "\n",
    "# Steps for the next attempt:\n",
    "# Stop training after three epochs. "
   ]
  },
  {
   "cell_type": "code",
   "execution_count": 17,
   "metadata": {},
   "outputs": [
    {
     "name": "stdout",
     "output_type": "stream",
     "text": [
      "Train on 15000 samples, validate on 10000 samples\n",
      "Epoch 1/4\n",
      "15000/15000 [==============================] - 4s 276us/step - loss: 0.5326 - acc: 0.7917 - val_loss: 0.4064 - val_acc: 0.8700\n",
      "Epoch 2/4\n",
      "15000/15000 [==============================] - 3s 217us/step - loss: 0.3258 - acc: 0.8987 - val_loss: 0.3154 - val_acc: 0.8851\n",
      "Epoch 3/4\n",
      "15000/15000 [==============================] - 3s 193us/step - loss: 0.2357 - acc: 0.9245 - val_loss: 0.2827 - val_acc: 0.8899\n",
      "Epoch 4/4\n",
      "15000/15000 [==============================] - 3s 195us/step - loss: 0.1866 - acc: 0.9395 - val_loss: 0.2860 - val_acc: 0.8839\n"
     ]
    }
   ],
   "source": [
    "# SECOND ATTEMPT:\n",
    "\n",
    "# Define Sequential model object and layers\n",
    "model = models.Sequential()\n",
    "\n",
    "model.add(layers.Dense(16, activation='relu', input_shape=(10000,)))\n",
    "model.add(layers.Dense(16, activation='relu'))\n",
    "model.add(layers.Dense(1, activation='sigmoid'))\n",
    "\n",
    "# Compile model\n",
    "model.compile(optimizer='rmsprop', \n",
    "              loss='binary_crossentropy', \n",
    "              metrics=['acc'])\n",
    "\n",
    "# Train model\n",
    "history = model.fit(x=partial_data_train,\n",
    "                    y=partial_label_train,\n",
    "                    epochs=4,\n",
    "                    batch_size=512,\n",
    "                    validation_data=(data_validation, label_validation))\n"
   ]
  },
  {
   "cell_type": "code",
   "execution_count": 18,
   "metadata": {},
   "outputs": [
    {
     "data": {
      "image/png": "[encoded data removed]",
      "text/plain": [
       "<matplotlib.figure.Figure at 0x123f73da0>"
      ]
     },
     "metadata": {},
     "output_type": "display_data"
    }
   ],
   "source": [
    "# Plotting the Training and Validation Loss\n",
    "\n",
    "plt.clf()\n",
    "\n",
    "history_dict = history.history\n",
    "loss_values = history_dict['loss']\n",
    "val_loss_values = history_dict['val_loss']\n",
    "\n",
    "epochs = range(1, len(loss_values) + 1)\n",
    "\n",
    "plt.plot(epochs, loss_values, 'bo', label='Training loss')\n",
    "plt.plot(epochs, val_loss_values, 'b', label='Validation loss')\n",
    "plt.title('Training and Validation Loss')\n",
    "plt.xlabel('Epochs')\n",
    "plt.ylabel('Loss')\n",
    "plt.legend()\n",
    "\n",
    "plt.show()"
   ]
  },
  {
   "cell_type": "code",
   "execution_count": 19,
   "metadata": {},
   "outputs": [
    {
     "data": {
      "image/png": "[encoded data removed]",
      "text/plain": [
       "<matplotlib.figure.Figure at 0x123bf8d30>"
      ]
     },
     "metadata": {},
     "output_type": "display_data"
    }
   ],
   "source": [
    "# Plotting the Training and Validation Accuracy\n",
    "\n",
    "plt.clf()\n",
    "acc_values = history_dict['acc']\n",
    "val_acc_values = history_dict['val_acc']\n",
    "\n",
    "plt.plot(epochs, acc_values, 'bo', label='Training Accuracy')\n",
    "plt.plot(epochs, val_acc_values, 'b', label='Validation acc')\n",
    "plt.title('Training and Validation Accuracy')\n",
    "plt.xlabel('Epochs')\n",
    "plt.ylabel('Loss')\n",
    "plt.legend()\n",
    "\n",
    "plt.show()"
   ]
  },
  {
   "cell_type": "code",
   "execution_count": 20,
   "metadata": {},
   "outputs": [
    {
     "name": "stdout",
     "output_type": "stream",
     "text": [
      "[[0.33456793]\n",
      " [0.9995907 ]\n",
      " [0.93415487]\n",
      " ...\n",
      " [0.14445254]\n",
      " [0.19064993]\n",
      " [0.65464795]]\n"
     ]
    }
   ],
   "source": [
    "# Test data on test_data\n",
    "\n",
    "print(model.predict(data_test))"
   ]
  },
  {
   "cell_type": "code",
   "execution_count": 21,
   "metadata": {
    "collapsed": true
   },
   "outputs": [],
   "source": [
    "# Summary:\n",
    "    \n",
    "# Usually, you need to do a lot of preprocessing on raw data in order to be able to feed it \n",
    "# as tensors into a neural network. \n",
    "\n",
    "# Stacks of Dense layers with relu activations can solve a wide range of problems and you'll\n",
    "# probably use them frequently\n",
    "\n",
    "# In a binary classification problem, your network should end with a Dense layer with one \n",
    "# unit and a sigmoid activation\n",
    "\n",
    "# With a scalar sigmoid output on binary classification, use the binary_crossentropy loss\n",
    "# function\n",
    "\n",
    "# The rmsprop optimizer is generally a good enough choice, whatever your problem\n",
    "\n",
    "# Monitor performance on data that is outside the training set.\n"
   ]
  },
  {
   "cell_type": "code",
   "execution_count": null,
   "metadata": {
    "collapsed": true
   },
   "outputs": [],
   "source": []
  }
 ],
 "metadata": {
  "kernelspec": {
   "display_name": "Python 3",
   "language": "python",
   "name": "python3"
  },
  "language_info": {
   "codemirror_mode": {
    "name": "ipython",
    "version": 3
   },
   "file_extension": ".py",
   "mimetype": "text/x-python",
   "name": "python",
   "nbconvert_exporter": "python",
   "pygments_lexer": "ipython3",
   "version": "3.6.3"
  }
 },
 "nbformat": 4,
 "nbformat_minor": 2
}

{
 "cells": [
  {
   "cell_type": "code",
   "execution_count": 9,
   "metadata": {
    "collapsed": true
   },
   "outputs": [],
   "source": [
    "# Predicting House Prices: A Regression Example"
   ]
  },
  {
   "cell_type": "code",
   "execution_count": 10,
   "metadata": {},
   "outputs": [],
   "source": [
    "from keras.datasets import boston_housing\n",
    "\n",
    "(train_data, train_targets), (test_data, test_targets) = boston_housing.load_data()"
   ]
  },
  {
   "cell_type": "code",
   "execution_count": 11,
   "metadata": {
    "collapsed": true
   },
   "outputs": [],
   "source": [
    "# Normalizing the Data\n",
    "\n",
    "# It would be problematic to feed values that all take wildly different ranges into a neural network. The network\n",
    "# might be able to automatically adapt to such heterogenous data (a column in the input data matrix), you subtract \n",
    "# the mean of the feature and divide by the standard deviation, so that the feature is centered around 0 and has a \n",
    "# unit standard deviation.\n",
    "\n",
    "mean = train_data.mean(axis=0)\n",
    "train_data -= mean\n",
    "\n",
    "std = train_data.std(axis=0)\n",
    "train_data /= std\n",
    "\n",
    "test_data -= mean\n",
    "test_data /= std\n",
    "\n"
   ]
  },
  {
   "cell_type": "code",
   "execution_count": 12,
   "metadata": {
    "collapsed": true
   },
   "outputs": [],
   "source": [
    "# Building your network \n",
    "\n",
    "# Build a small network, due to small sample pool\n",
    "# Num_layers: 4 layers\n",
    "#             Note the last layer does not use sigmoid, because it is free to predict values in any range.\n",
    "# Optimizer: rmsprop, like normal\n",
    "# Loss: Mean Squared Error (MSE), the square of the difference between the predictions and the targets. This \n",
    "#       is fairly common in regression problems.\n",
    "# Metric: Mean Absolute Error, the absolute value of the difference between the predictions and the targets.\n",
    "\n",
    "from keras import models\n",
    "from keras import layers\n",
    "\n",
    "def build_model():\n",
    "\n",
    "    model = models.Sequential()\n",
    "    \n",
    "    model.add(layers.Dense(64, activation='relu', input_shape=(train_data.shape[1], )))\n",
    "    model.add(layers.Dense(64, activation='relu'))\n",
    "    model.add(layers.Dense(1))\n",
    "    \n",
    "    model.compile(optimizer='rmsprop', loss='mse', metrics=['mae'])\n",
    "    \n",
    "    return model\n",
    "\n"
   ]
  },
  {
   "cell_type": "code",
   "execution_count": 13,
   "metadata": {},
   "outputs": [
    {
     "name": "stdout",
     "output_type": "stream",
     "text": [
      "Processsing Fold # 1\n",
      "Processsing Fold # 2\n",
      "Processsing Fold # 3\n",
      "Processsing Fold # 4\n"
     ]
    }
   ],
   "source": [
    "# Validating your approach using K-fold validation\n",
    "\n",
    "# Since we have so few data points, the validation set would end up being very small. This means that \n",
    "# the validation scores might change a lot depending on which data points you chose to use for validation \n",
    "# and which you chose for training. This would prevent reliable evaluation of the model.\n",
    "\n",
    "# The best practice to use is K-Fold cross-validation, which splits the available data into K partitions\n",
    "# (typically K=4 or 5), instantiating K identical models, and training each one on K-1 partitions while\n",
    "# evaluating on the remaining partition\n",
    "\n",
    "import numpy as np\n",
    "\n",
    "num_partitions = 4\n",
    "num_val_samples = len(train_data) // num_partitions\n",
    "num_epochs = 500\n",
    "all_mae_histories = []\n",
    "\n",
    "for i in range(num_partitions):\n",
    "    print('Processsing Fold #', i+1)\n",
    "    \n",
    "    # Preapres validation data for given partition\n",
    "    val_data = train_data[i * num_val_samples: (i + 1) * num_val_samples]\n",
    "    val_targets = train_targets[i * num_val_samples: (i + 1) * num_val_samples]\n",
    "    \n",
    "    # Create train_data set for model\n",
    "    partial_train_data = np.concatenate(\n",
    "        [train_data[:i * num_val_samples], train_data[(i+1) * num_val_samples:]],\n",
    "        axis=0\n",
    "    )\n",
    "    \n",
    "    # Create train_targets set for model\n",
    "    partial_train_targets = np.concatenate(\n",
    "        [train_targets[:i * num_val_samples], train_targets[(i+1) * num_val_samples:]],\n",
    "        axis=0\n",
    "    )\n",
    "    \n",
    "    # Instantiate new model\n",
    "    model = build_model()\n",
    "    \n",
    "    # Train model and store output in History object\n",
    "    history = model.fit(partial_train_data, \n",
    "              partial_train_targets, \n",
    "              epochs=num_epochs, \n",
    "              batch_size=1,\n",
    "              validation_data=(val_data, val_targets),\n",
    "              verbose=0)\n",
    "\n",
    "    # Retrieve Mean Absolute Error for each epoch object from History object\n",
    "    mae_history = history.history['val_mean_absolute_error']\n",
    "    \n",
    "    # Add Mean Absolute Error of model to all_scores list\n",
    "    all_mae_histories.append(mae_history)\n",
    "    \n",
    "average_mae_history = [np.mean([x[i] for x in all_mae_histories]) for i in range(num_epochs)]\n",
    "# Compute average of per-epoch MAE scores for all folds\n",
    "# average_mae_history = [ np.mean([x[i] for x in all_mae_histories]) for i in range(num_epochs)]"
   ]
  },
  {
   "cell_type": "code",
   "execution_count": 14,
   "metadata": {},
   "outputs": [
    {
     "data": {
      "image/png": "[encoded data removed]",
      "text/plain": [
       "<matplotlib.figure.Figure at 0x11f5d5438>"
      ]
     },
     "metadata": {},
     "output_type": "display_data"
    }
   ],
   "source": [
    "# Plot validation scores including first 10 data points\n",
    "\n",
    "import matplotlib.pyplot as plt\n",
    "\n",
    "plt.plot(range(1, len(average_mae_history) + 1), average_mae_history)\n",
    "plt.xlabel('Epochs')\n",
    "plt.ylabel('Validation MAE')\n",
    "plt.show()"
   ]
  },
  {
   "cell_type": "code",
   "execution_count": 52,
   "metadata": {},
   "outputs": [
    {
     "data": {
      "image/png": "[encoded data removed]",
      "text/plain": [
       "<matplotlib.figure.Figure at 0x124842d68>"
      ]
     },
     "metadata": {},
     "output_type": "display_data"
    }
   ],
   "source": [
    "# Plot validation scores ecluding the first 10 data points and applying an exponential moving average\n",
    "\n",
    "# From the plot, the model stops improving after 80-100 epochs. Start fiddling with the number of epochs\n",
    "\n",
    "def smooth_curve(points, factor):\n",
    "    smoothed_points = []\n",
    "    for point in points:\n",
    "        if smoothed_points:\n",
    "            previous = smoothed_points[-1]\n",
    "            smoothed_points.append(previous * factor + point * (1 - factor))\n",
    "        else:\n",
    "            smoothed_points.append(point)\n",
    "\n",
    "    return smoothed_points\n",
    "\n",
    "plt.clf()\n",
    "\n",
    "smooth_mae_history = smooth_curve(average_mae_history[10:], 0.9)\n",
    "\n",
    "plt.plot(range(1, len(smooth_mae_history) + 1), smooth_mae_history)\n",
    "plt.xlabel('Epochs')\n",
    "plt.ylabel('Validation MAE')\n",
    "plt.show()"
   ]
  },
  {
   "cell_type": "code",
   "execution_count": 53,
   "metadata": {},
   "outputs": [
    {
     "name": "stdout",
     "output_type": "stream",
     "text": [
      "102/102 [==============================] - 0s 3ms/step\n",
      "2.639264658385632\n"
     ]
    }
   ],
   "source": [
    "# Compile the model with 80-100 epochs\n",
    "\n",
    "model = build_model()\n",
    "model.fit(train_data, train_targets, epochs=90, batch_size=16, verbose=0)\n",
    "\n",
    "test_mse_score, test_mae_score = model.evaluate(test_data, test_targets)\n",
    "\n",
    "print(test_mae_score)"
   ]
  },
  {
   "cell_type": "code",
   "execution_count": null,
   "metadata": {},
   "outputs": [],
   "source": []
  },
  {
   "cell_type": "code",
   "execution_count": null,
   "metadata": {
    "collapsed": true
   },
   "outputs": [],
   "source": []
  },
  {
   "cell_type": "code",
   "execution_count": null,
   "metadata": {
    "collapsed": true
   },
   "outputs": [],
   "source": []
  }
 ],
 "metadata": {
  "kernelspec": {
   "display_name": "Python 3",
   "language": "python",
   "name": "python3"
  },
  "language_info": {
   "codemirror_mode": {
    "name": "ipython",
    "version": 3
   },
   "file_extension": ".py",
   "mimetype": "text/x-python",
   "name": "python",
   "nbconvert_exporter": "python",
   "pygments_lexer": "ipython3",
   "version": "3.6.3"
  }
 },
 "nbformat": 4,
 "nbformat_minor": 2
}

{
 "cells": [
  {
   "cell_type": "code",
   "execution_count": 31,
   "metadata": {
    "collapsed": true
   },
   "outputs": [],
   "source": [
    "# Retrieve Data\n",
    "\n",
    "from keras.datasets import mnist\n",
    "\n",
    "(train_images, train_labels), (test_images, test_labels) = mnist.load_data()"
   ]
  },
  {
   "cell_type": "code",
   "execution_count": 32,
   "metadata": {
    "collapsed": true
   },
   "outputs": [],
   "source": [
    "# Network Architecture\n",
    "\n",
    "from keras import models\n",
    "from keras import layers\n",
    "\n",
    "# Two layers\n",
    "# Second layer is a 10-way softmax layers (returns array of 10 probability scores, one for each digit)\n",
    "\n",
    "network = models.Sequential()\n",
    "network.add(layers.Dense(512, activation='relu', input_shape=(28*28,)))\n",
    "network.add(layers.Dense(10, activation='softmax'))\n",
    "\n"
   ]
  },
  {
   "cell_type": "code",
   "execution_count": 33,
   "metadata": {
    "collapsed": true
   },
   "outputs": [],
   "source": [
    "# Compilation step\n",
    "\n",
    "network.compile(optimizer='rmsprop', \n",
    "                loss='categorical_crossentropy', \n",
    "                metrics=['accuracy'])\n",
    "\n",
    "# Compilation step has 3 components:\n",
    "# 1) Loss function: how the network will measure its performance on the training data\n",
    "# 2) Optimizer: the mechanism through which the network iwll update itself based on the \n",
    "#    data it sees and its loss function\n",
    "# 3) Metrics for training and testing: In this case, we will only measure accuracy"
   ]
  },
  {
   "cell_type": "code",
   "execution_count": 34,
   "metadata": {
    "collapsed": true
   },
   "outputs": [],
   "source": [
    "# Preparing the image data\n",
    "\n",
    "train_images = train_images.reshape((60000, 28*28))\n",
    "train_images = train_images.astype('float32') / 255\n",
    "\n",
    "test_images = test_images.reshape((10000, 28*28))\n",
    "test_images = test_images.astype('float32') / 255\n",
    "\n",
    "# Proprocess data by reshaping it into the shape the network expects\n",
    "# Scale so all values are in the [0, 1] interval\n",
    "# Array of shape (60000, 28, 28), values [0, 255] --> Reshape to float32 array (60000, 28*28), values [0, 1]"
   ]
  },
  {
   "cell_type": "code",
   "execution_count": 35,
   "metadata": {
    "collapsed": true
   },
   "outputs": [],
   "source": [
    "# Preparing labels\n",
    "\n",
    "from keras.utils import to_categorical\n",
    "\n",
    "train_labels = to_categorical(train_labels)\n",
    "test_labels = to_categorical(test_labels)"
   ]
  },
  {
   "cell_type": "code",
   "execution_count": 36,
   "metadata": {},
   "outputs": [
    {
     "name": "stdout",
     "output_type": "stream",
     "text": [
      "Epoch 1/5\n",
      "60000/60000 [==============================] - 7s 112us/step - loss: 0.2577 - acc: 0.9259\n",
      "Epoch 2/5\n",
      "60000/60000 [==============================] - 6s 100us/step - loss: 0.1049 - acc: 0.9691\n",
      "Epoch 3/5\n",
      "60000/60000 [==============================] - ETA: 0s - loss: 0.0681 - acc: 0.979 - 6s 93us/step - loss: 0.0682 - acc: 0.9796\n",
      "Epoch 4/5\n",
      "60000/60000 [==============================] - 5s 84us/step - loss: 0.0496 - acc: 0.9848\n",
      "Epoch 5/5\n",
      "60000/60000 [==============================] - 5s 88us/step - loss: 0.0375 - acc: 0.9889\n"
     ]
    },
    {
     "data": {
      "text/plain": [
       "<keras.callbacks.History at 0x12c5cb278>"
      ]
     },
     "execution_count": 36,
     "metadata": {},
     "output_type": "execute_result"
    }
   ],
   "source": [
    "# Train network using Keras' \"fit\" method\n",
    "\n",
    "network.fit(train_images, train_labels, epochs=5, batch_size=128)"
   ]
  },
  {
   "cell_type": "code",
   "execution_count": 37,
   "metadata": {},
   "outputs": [
    {
     "name": "stdout",
     "output_type": "stream",
     "text": [
      "10000/10000 [==============================] - 1s 106us/step\n",
      "Test Accuracy:  0.9793\n"
     ]
    }
   ],
   "source": [
    "# Test network on test set using Keras' \"evaluate\" method\n",
    "\n",
    "test_loss, test_acc = network.evaluate(test_images, test_labels)\n",
    "\n",
    "print('Test Accuracy: ', test_acc)"
   ]
  },
  {
   "cell_type": "code",
   "execution_count": 38,
   "metadata": {
    "collapsed": true
   },
   "outputs": [],
   "source": [
    "# Data Representations for Neural Networks: \n",
    "\n",
    "#     1) Scalars: 0-D tensors, only one number\n",
    "\n",
    "#     2) Vectors: 1-D tensors\n",
    "    \n",
    "#     3) Matrices: 2-D tensors\n",
    "    \n",
    "#     4) 3D Tensors/higher dimensions\n",
    "\n",
    "# Key Attributes: \n",
    "#     1) number of axes: rank\n",
    "#     2) shape: tuple of integres that describes how many dimensions the tensor has along each axis\n",
    "#     3) Data type"
   ]
  },
  {
   "cell_type": "code",
   "execution_count": 39,
   "metadata": {
    "collapsed": true
   },
   "outputs": [],
   "source": [
    "# Gradient-based optimization\n",
    "\n",
    "# output = relu(dot(W, input) + b)\n",
    "# Where W and b are tensors that are attributes of the layer (weights)\n",
    "\n",
    "\n",
    "# Training Loop:\n",
    "#     1) Draw a batch of training samples x and corresponding targets y\n",
    "#     2) Run the network on x to obtain predictions y_pred\n",
    "#     3) Compute the loss of the network on the batch, a measure of the mismatch between y_pred and y\n",
    "#     4) Update all the weights of the network to slightly reduce the loss on this batch\n",
    "\n",
    "# If you continue the training loop, you'll eventually end up with a network that has a very low loss\n",
    "# on its training data\n",
    "\n",
    "# Mini-batch stochastic gradient descent:\n",
    "#     1) Draw a batch of training samples and corresponding targets y\n",
    "#     2) Run the network on x to obtain predictions y_pred\n",
    "#     3) Compute the loss of the network on the batch, a measure of the mismatch between y_pred and y\n",
    "#     4) ompute the gradient of the loss with regard to the network's parameters (a backward pass)\n",
    "#     5) Move the parameters a little in the opposite direction from the gradient, reducing the loss\n",
    "#        on the batch a bit.\n",
    "\n"
   ]
  }
 ],
 "metadata": {
  "kernelspec": {
   "display_name": "Python 3",
   "language": "python",
   "name": "python3"
  },
  "language_info": {
   "codemirror_mode": {
    "name": "ipython",
    "version": 3
   },
   "file_extension": ".py",
   "mimetype": "text/x-python",
   "name": "python",
   "nbconvert_exporter": "python",
   "pygments_lexer": "ipython3",
   "version": "3.6.3"
  }
 },
 "nbformat": 4,
 "nbformat_minor": 2
}
